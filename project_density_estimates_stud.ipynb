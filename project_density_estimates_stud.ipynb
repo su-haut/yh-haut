{
 "cells": [
  {
   "cell_type": "markdown",
   "metadata": {},
   "source": [
    "# <font color=darkcyan> Estimation de densités</font> \n",
    "\n",
    "#### <font color=darkcyan>Application à la détection de dauphins dans le Golfe de Gascogne</font>"
   ]
  },
  {
   "cell_type": "markdown",
   "metadata": {},
   "source": [
    "Dans ce projet on s'intéresse à l'estimation d'une densité de probabilité $p_{\\star}$ sur un espace $\\mathsf{X} \\subset \\mathbb{R}^d$. On suppose que l'on dispose de variables $(X_i)_{1\\leqslant i\\leqslant n}$ indépendantes et identiquement distribuées et telles que la loi de $X_1$ admet la densité $p_\\star$ par rapport à une mesure de référence sur $\\mathsf{X}$.\n",
    "\n",
    "Nous allons proposer, étudier et implémenter différents estimateurs de $p_\\star$ à partir des $(X_i)_{1\\leqslant i\\leqslant n}$.\n",
    "\n",
    "- **Estimateur à base d'histogrammes**.\n",
    "- **Estimateurs à noyaux**.\n",
    "\n",
    "Notons $\\widehat{p}_n$ un estimateur de $p_\\star$. La performance de cet estimateur est en générale mesurée à l'aide de deux critères.\n",
    "\n",
    "``L'erreur quadratique moyenne`` est définie, pour tout $x\\in \\mathsf{X}$ par \n",
    "\n",
    "$$\n",
    "\\mathcal{E}(x) = \\mathbb{E}\\left[\\left(\\widehat{p}_n(x)-p_{\\star}(x)\\right)^2\\right]\\,.\n",
    "$$\n",
    "\n",
    "``L'erreur quadratique moyenne intégrée`` est définie par \n",
    "\n",
    "$$\n",
    "\\overline{\\mathcal{E}} = \\mathbb{E}\\left[\\int_0^1\\left(\\widehat{p}_n(x)-p_{\\star}(x)\\right)^2 dx\\right]\\,.\n",
    "$$\n"
   ]
  },
  {
   "cell_type": "markdown",
   "metadata": {},
   "source": [
    "#### <font color=darkred>Estimateus à base d'histogrammes</font>"
   ]
  },
  {
   "cell_type": "markdown",
   "metadata": {},
   "source": [
    "Dans cette section on suppose que $\\mathsf{X}$ est borné et on suppose que $\\mathsf{X}=[0,1)$ sans perte de généralités. Pour tout $m\\geqslant 1$ on considère $(A_1,\\ldots, A_m)$ la partition uniforme de $[0,1)$ définie, pour tout $1\\leqslant i \\leqslant m$, par $A_i = [(i-1/m),i/m)$. Soient $(X_1\\ldots,X_n)$ des variables aléatoires i.i.d. de loi de densité $p_{\\star}$ par rapport à la mesure de Lebesgue sur $[0,1)$. On considère l'estimateur par histogramme de la densité $p_{\\star}$ :\n",
    "\n",
    "$$\n",
    "\\widehat{p}^h_n:x\\mapsto \\frac{1}{nh}\\sum_{i=1}^n\\sum_{j=1}^m 1_{A_j}(X_i)1_{A_j}(x)\\,,\n",
    "$$\n",
    "\n",
    "où $h=1/m$."
   ]
  },
  {
   "cell_type": "markdown",
   "metadata": {},
   "source": [
    "<font color=darkblue> **T1** Evaluer l'erreur quadratique moyenne associée à cet estimateur.</font>"
   ]
  },
  {
   "cell_type": "markdown",
   "metadata": {},
   "source": []
  },
  {
   "cell_type": "markdown",
   "metadata": {},
   "source": [
    "<font color=darkblue> **T2** Evaluer l'erreur quadratique moyenne intégrée associée à cet estimateur.</font>"
   ]
  },
  {
   "cell_type": "markdown",
   "metadata": {},
   "source": []
  },
  {
   "cell_type": "markdown",
   "metadata": {},
   "source": [
    "Le fichier ``delphins.csv`` contient des mesures d'abondance de dauphins dans le Golfe de Gscogne. Le dauphin commun ``Delphinus delphis`` est l'espèce la plus abondante de mammifères marins dans le Golfe de Gascogne (Laran et al, 2017). Depuis 2004, les campagnes océanographiques de l'Ifremer sur le navire Thalassa permettent de recenser et dénombrer les dauphins communs. Les données collectées représentent $1 269$ observations de petits delphinidés (principalement des dauphins communs mais aussi quelques dauphins bleu et blanc ``Stenella coeruleoalba``). Le fichier ```delphins.csv```contient la proportion de dauphins mesurés lors de chaque expérience (vis-à-vis d'une valeur de référence). "
   ]
  },
  {
   "cell_type": "markdown",
   "metadata": {},
   "source": [
    "<font color=darkblue> **S1** Charger les données. Tracer le nombre de dauphins en fonction des expérices. \n",
    "    \n",
    "Ces valeurs seront les $(X_i)_{1\\leqslant i\\leqslant n}$ dans notre application (l'hypothèse i.i.d est bien sûr ici discutable).</font>"
   ]
  },
  {
   "cell_type": "code",
   "execution_count": null,
   "metadata": {},
   "outputs": [],
   "source": [
    "import warnings\n",
    "warnings.filterwarnings('ignore')\n",
    "\"\"\"\"\"\"\"\"\"\"\"\"\"\"\"\"\"\n",
    "Required packages\n",
    "\"\"\"\"\"\"\"\"\"\"\"\"\"\"\"\"\"\n",
    "import numpy as np\n",
    "import seaborn as sns\n",
    "import pandas as pd\n",
    "import matplotlib.pyplot as plt"
   ]
  },
  {
   "cell_type": "code",
   "execution_count": null,
   "metadata": {},
   "outputs": [],
   "source": [
    "# Vous pouvez utiliser la fonction pd.read_csv\n",
    "data_delphins = pd.read_csv('data_test.csv', header = 0)\n",
    "data_delphins.head()"
   ]
  },
  {
   "cell_type": "code",
   "execution_count": null,
   "metadata": {},
   "outputs": [],
   "source": [
    "nb_delphins.shape[0]"
   ]
  },
  {
   "cell_type": "code",
   "execution_count": null,
   "metadata": {
    "scrolled": true
   },
   "outputs": [],
   "source": [
    "fig = plt.figure(figsize=(12,12))\n",
    "plt.plot(data_delphins, linestyle='dashed', linewidth=2)\n",
    "plt.tick_params(labelright=True)\n",
    "plt.grid(True) \n",
    "plt.xlabel('Experiment',fontsize=10)\n",
    "plt.ylabel('Number of delphins',fontsize=10)                                                                                                                                                \n",
    "plt.tight_layout()"
   ]
  },
  {
   "cell_type": "markdown",
   "metadata": {},
   "source": [
    "<font color=darkblue> **S2** Ecrire une fonction produisant l'estimateur pour une valeur de $m$ donnée. Tracer l'estimateur pour différentes valeurs de $m$.</font>"
   ]
  },
  {
   "cell_type": "code",
   "execution_count": null,
   "metadata": {},
   "outputs": [],
   "source": [
    "def hist_estimate(data, m):\n",
    "    \"\"\"\n",
    "    Inputs\n",
    "    ----------\n",
    "    data: np.array contenant les X_i.\n",
    "    m: nombre d'éléments de la partition.\n",
    "    \n",
    "    Outputs\n",
    "    -------\n",
    "    hist_est: fonction retournant l'estimation de la densité pour chaque x donné en argument.\n",
    "    \"\"\"\n",
    "    ###\n",
    "    # A remplir\n",
    "    ###\n",
    "    return hist_est"
   ]
  },
  {
   "cell_type": "markdown",
   "metadata": {},
   "source": [
    "#### <font color=darkred>Estimateus à base de noyaux</font>"
   ]
  },
  {
   "cell_type": "markdown",
   "metadata": {},
   "source": [
    "La densité $p_{\\star}$ est estimée par l'estimateur à noyau suivant :\n",
    "\n",
    "$$\n",
    "\\widehat{p}^{h_n}_n:x\\mapsto \\frac{1}{nh_n}\\sum_{i=1}^n K\\left(\\frac{X_i-x}{h_n}\\right)\\,.\n",
    "$$\n",
    "\n",
    "où $K:\\mathbb{R}\\to \\mathbb{R}$ est une fonction positive telle que $\\int_{\\mathbb{R}}K(x) dx = 1$ et où $h_n$ est un réel strictement positif."
   ]
  },
  {
   "cell_type": "markdown",
   "metadata": {},
   "source": [
    "<font color=darkblue> **T3.1** En supposant que $K$ est telle que $\\int_{\\mathbb{R}}K^2\\left(u\\right)du < \\infty$, montrer que la variance de l'estimateur est inférieure à un terme d'ordre $(nh_n)^{-1}$.</font>"
   ]
  },
  {
   "cell_type": "markdown",
   "metadata": {},
   "source": []
  },
  {
   "cell_type": "markdown",
   "metadata": {},
   "source": [
    "<font color=darkblue> **T3.2** En supposant $p_\\star$ deux fois dérivable et de dérivée seconde bornée et en supposant que $K$ est telle que $\\int_{\\mathbb{R}}u^2 \\left|K\\left(u\\right)\\right|du < \\infty$, montrer que le biais de l'estimateur est inférieur à un terme d'ordre $h_n^2$.</font>"
   ]
  },
  {
   "cell_type": "markdown",
   "metadata": {},
   "source": []
  },
  {
   "cell_type": "markdown",
   "metadata": {},
   "source": [
    "<font color=darkblue> **T3.3** En déduire une borne de l'erreur quadratique moyenne et un choix optimal de $h_n$ en fonction de $n$.</font>"
   ]
  },
  {
   "cell_type": "markdown",
   "metadata": {},
   "source": []
  },
  {
   "cell_type": "markdown",
   "metadata": {},
   "source": [
    "<font color=darkblue> **S3** Ecrire une fonction retournant l'estimateur à noyau pour un choix de $h_n$ et un choix de $K$.</font>"
   ]
  },
  {
   "cell_type": "code",
   "execution_count": null,
   "metadata": {},
   "outputs": [],
   "source": [
    "def kernel_estimate(data, h, K):\n",
    "    \"\"\"\n",
    "    Inputs\n",
    "    ----------\n",
    "    data: np.array contenant les X_i.\n",
    "    h: fenêtre de l'estimateur.\n",
    "    K: noyau utilisé\n",
    "    \n",
    "    Outputs\n",
    "    -------\n",
    "    kest: fonction retournant l'estimation de la densité pour chaque x donné en argument.\n",
    "    \"\"\"\n",
    "    ###\n",
    "    # A remplir\n",
    "    ###\n",
    "    return kest"
   ]
  },
  {
   "cell_type": "markdown",
   "metadata": {},
   "source": [
    "<font color=darkblue> **S3** Tracer l'estimateur pour différentes valeurs de $h_n$ et le comparer aux données mesurées. Comparer vos tracés avec ceux obtenus à l'aide de la fonction ``distplot`` de seaborn (en utilisant la commande ``sns.distplot(normalized_data, kde = True)``).\n",
    "Une fonction $K$ classique qui peut-être utilisée est $K: u \\mapsto \\mathrm{e}^{-u^2/2}$.\n",
    "</font>"
   ]
  },
  {
   "cell_type": "code",
   "execution_count": null,
   "metadata": {},
   "outputs": [],
   "source": [
    "###\n",
    "# Tracé de l'estimateur pour différentes valeurs de h.\n",
    "###"
   ]
  },
  {
   "cell_type": "markdown",
   "metadata": {},
   "source": [
    "On remarque que l'estimateur proposé dépend très fortement du choix de $h_n$ donc la valeur optimale dépend de constates inconnues. Une façon de choisir $h_n$ automatiquement est de minimiser un estimateur de l'erreur quadratique moyenne intégrée. Remarquons que \n",
    "\n",
    "$$\n",
    "\\overline{\\mathcal{E}} = \\mathbb{E}\\left[\\int_0^1\\left(\\widehat{p}^h_n(x)-p_{\\star}(x)\\right)^2 dx\\right] = \\int_0^1 p^2_{\\star}(x)dx + \\mathbb{E}\\left[\\int_0^1 (\\widehat{p}^h_n(x))^2dx\\right] - 2\\int_0^1 p_{\\star}(x)\\mathbb{E}\\left[\\widehat{p}^h_n(x)\\right]dx\\,.\n",
    "$$\n",
    "\n",
    "Minimiser $\\overline{\\mathcal{E}}$ en fonction de $h$ est donc équivalent à minimiser $h \\mapsto \\mathbb{E}\\left[\\int_0^1 (\\widehat{p}^h_n(x))^2dx\\right] - 2\\int_0^1 p_{\\star}(x)\\mathbb{E}\\left[\\widehat{p}^h_n(x)\\right]dx$. Cette quantité étant inconnue, nous proposons de minimiser un estimateur sans biais de cette dernière."
   ]
  },
  {
   "cell_type": "markdown",
   "metadata": {},
   "source": [
    "<font color=darkblue> **T4** Montrer que pour tout $h$, un tel estimateur sans biais est donné par :\n",
    "\n",
    "$$\n",
    "\\int_0^1 (\\widehat{p}^h_n(x))^2dx - \\frac{2}{n(n-1)h}\\sum_{i=1}^n\\sum_{j=1, j\\neq i }^{n} K\\left(\\frac{X_i-X_j}{h}\\right)\\,.\n",
    "$$\n",
    "</font>"
   ]
  },
  {
   "cell_type": "markdown",
   "metadata": {},
   "source": []
  },
  {
   "cell_type": "markdown",
   "metadata": {},
   "source": [
    "<font color=darkblue> **S4** Dans le cas où $K: u \\mapsto \\mathrm{e}^{-u^2/2}$, écrire une fonction retournant l'estimateur de l'erreur précédent.\n",
    "</font>"
   ]
  },
  {
   "cell_type": "code",
   "execution_count": null,
   "metadata": {},
   "outputs": [],
   "source": [
    "def integrated_MSE_estimate(data, h):\n",
    "    \"\"\"\n",
    "    Inputs\n",
    "    ----------\n",
    "    data: np.array contenant les X_i.\n",
    "    h: fenêtre de l'estimateur.\n",
    "    \n",
    "    Outputs\n",
    "    -------\n",
    "    integrated_MSE: estimateur dans biais défini en question Q4.\n",
    "    \"\"\"\n",
    "    ###\n",
    "    # A remplir\n",
    "    ###\n",
    "    return integrated_MSE"
   ]
  },
  {
   "cell_type": "markdown",
   "metadata": {},
   "source": [
    "<font color=darkblue> **S5** En fixant une grille de valeurs possibles pour $h_n$, écrire une fonction fournissant le $h_n$ optimal minimosant le critère précédent. Tracer l'estimateur à noyau associé.\n",
    "</font>"
   ]
  },
  {
   "cell_type": "code",
   "execution_count": null,
   "metadata": {},
   "outputs": [],
   "source": [
    "def optimize_bandwith(data,range_h):\n",
    "    \"\"\"\n",
    "    Inputs\n",
    "    ----------\n",
    "    data: np.array contenant les X_i.\n",
    "    range_h: np.array contenant les valeurs possibles pour h\n",
    "    \n",
    "    Outputs\n",
    "    -------\n",
    "    h_opt: h optimal parmi range_h.\n",
    "    \"\"\"\n",
    "    ###\n",
    "    # A remplir\n",
    "    ###\n",
    "    return h_opt"
   ]
  },
  {
   "cell_type": "code",
   "execution_count": null,
   "metadata": {},
   "outputs": [],
   "source": [
    "###\n",
    "# Tracé de l'estimateur obtenu avec la fenêtre optimale\n",
    "###"
   ]
  },
  {
   "cell_type": "code",
   "execution_count": null,
   "metadata": {},
   "outputs": [],
   "source": []
  },
  {
   "cell_type": "code",
   "execution_count": null,
   "metadata": {},
   "outputs": [],
   "source": []
  },
  {
   "cell_type": "code",
   "execution_count": null,
   "metadata": {},
   "outputs": [],
   "source": []
  },
  {
   "cell_type": "code",
   "execution_count": null,
   "metadata": {},
   "outputs": [],
   "source": []
  },
  {
   "cell_type": "code",
   "execution_count": null,
   "metadata": {},
   "outputs": [],
   "source": []
  },
  {
   "cell_type": "code",
   "execution_count": null,
   "metadata": {},
   "outputs": [],
   "source": []
  }
 ],
 "metadata": {
  "kernelspec": {
   "display_name": "Python 3 (ipykernel)",
   "language": "python",
   "name": "python3"
  },
  "language_info": {
   "codemirror_mode": {
    "name": "ipython",
    "version": 3
   },
   "file_extension": ".py",
   "mimetype": "text/x-python",
   "name": "python",
   "nbconvert_exporter": "python",
   "pygments_lexer": "ipython3",
   "version": "3.9.7"
  }
 },
 "nbformat": 4,
 "nbformat_minor": 2
}
